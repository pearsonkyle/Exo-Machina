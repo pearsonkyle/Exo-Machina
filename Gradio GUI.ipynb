{
 "cells": [
  {
   "cell_type": "code",
   "execution_count": 1,
   "id": "1c316481",
   "metadata": {},
   "outputs": [],
   "source": [
    "import time\n",
    "import json\n",
    "import pickle\n",
    "import gradio as gr\n",
    "from annoy import AnnoyIndex\n",
    "from transformers import pipeline\n",
    "\n",
    "from database import Database, ADSEntry\n",
    "from text_to_vec import spacy_tokenizer\n",
    "\n",
    "# load database\n",
    "settings = json.load(open(\"settings.json\", 'r'))\n",
    "ADSDatabase = Database( settings=settings['database'], dtype=ADSEntry )\n",
    "\n",
    "# ranks words by importance/occurence\n",
    "vectorizer = pickle.load(open(\"vectorizer.pkl\", \"rb\"))\n",
    "\n",
    "# reduce dimensionality\n",
    "pca = pickle.load(open(\"pca.pkl\", \"rb\"))\n",
    "\n",
    "# lambda function to process input text\n",
    "process_input = lambda x: pca.transform(vectorizer.transform([spacy_tokenizer(x)]).toarray())[0]\n",
    "\n",
    "class TextAI:\n",
    "    def __init__(self, db, model_checkpoint='./models/checkpoint-90000', neighbor_file=f'test_514.ann'):\n",
    "        self.db = db\n",
    "        self.model = pipeline('text-generation',model=model_checkpoint, tokenizer='gpt2', config={'max_length':2000})\n",
    "        ndim = int(neighbor_file.split('_')[-1].split('.')[0])\n",
    "        self.neighbors = AnnoyIndex(ndim, 'angular')\n",
    "        self.neighbors.load(neighbor_file) # super fast, will just mmap the file\n",
    "\n",
    "    def __call__(self, x):\n",
    "        # generate text \n",
    "        text_suggestions = []\n",
    "        for i in range(4):\n",
    "            text_suggestions.append(self.model(x)[0]['generated_text'].replace(x,'').strip())\n",
    "\n",
    "        #text = self.model(x, max_length=1000, do_sample=True, top_k=50, top_p=0.95, num_return_sequences=1)[0]['generated_text']\n",
    "        # get similar abstracts\n",
    "        nids = self.neighbors.get_nns_by_vector(process_input(x), 10, search_k=-1, include_distances=False)\n",
    "        entrys = self.db.query(self.db.dtype.id.in_(nids)) # thread issue with gradio (could cache instead)\n",
    "        paper_recs = [[entry.title,entry.bibcode,entry.abstract] for entry in entrys]\n",
    "        return text_suggestions, paper_recs\n",
    "\n",
    "textai = TextAI(ADSDatabase)"
   ]
  },
  {
   "cell_type": "code",
   "execution_count": 2,
   "id": "628a2fbb",
   "metadata": {},
   "outputs": [
    {
     "name": "stdout",
     "output_type": "stream",
     "text": [
      "['97-57102, with participation from the Arizona university system and NASA. The flight model of the SPICAM', '70264266 and from the National Science Foundation (NF) administered by NASA.\\nA major result of Mars', 'ing System (MADS). We are in the early process of distributing these grants through the NASA Science Data Center', '08501 to the College of Charleston, South Carolina.\\nThe primary goal of the Virtual Planetary Laboratory (V']\n",
      "The Harvard Science Research Mentoring Program (2018arXiv180908078G) The last decade has seen a proliferation of mentoring programs that provide high-school students authentic research experiences. Such programs expose students to front-line research, equip them with basic research skills (including coding skills), and introduce them to scientist role models. Mentors in such programs range from undergraduate students to faculty members. Here, I describe the founding and first two years of operation of the Harvard Science Research Mentoring Program (SRMP). This program specifically recruits advanced graduate students and postdoctoral scholars to serve as mentors. By mentoring high-school students over a long timescale (September to May), early-career scientists gain hands-on experience in the skills required to advise students|skills that are often required of them in future academic positions yet seldom taught by academic institutions. Finally, I invite directors of existing and prospective SRMPs to join the Global SPHERE Network, through which directors of SRMPs around the world can share their experiences, best practices, and questions. \n",
      "\n",
      "Searching for Good Science - The Cancellation of NASA's SETI Program (1999JBIS...52....3G) On Columbus Day, 1992, the National Aeronautics and Space Administration (NASA) formally initiated a radio astronomy program called SETI (Search for Extraterrestrial Intelligence). Less than a year later, Congress abruptly canceled the program. Why? While there was and still is a debate over the likelihood of finding intelligent extraterrestrial life, virtually all informed parties agreed that the SETI program constituted worthwhile, valid science. Yet, fervor over the federal budget deficit, lack of support from other scientists and aerospace contractors and a significant history of unfounded associations with nonscientific elements combined with bad timing in fall 1993 to make the program an easy target to eliminate. Thus SETI was a relative anomaly in terms of a small, scientifically valid program that was canceled for political expediency. \n",
      "\n",
      "NASA Today - Mars Observer Segment (Part 4 of 6) (1993STIN...0070462.) This videotape consists of eight segments from the NASA Today News program. The first segment is an announcement that there was no date set for the launch of STS-51, which had been postponed due to mechanical problems. The second segment describes the MidDeck Dynamic Experiment Facility. The third segment is about the scheduled arrival of the Mars Observer at Mars, it shows an image of Mars as seen from the approaching Observer spacecraft, and features an animation of the approach to Mars, including the maneuvers that are planned to put the spacecraft in the desired orbit. The fourth segment describes a discovery from an infrared spectrometer that there is nitrogen ice on Pluto. The fifth segment discusses the Aerospace for Kids (ASK) program at the Goddard Space Flight Center (GSFC). The sixth segment is about the high school and college summer internship programs at GSFC. The seventh segment announces a science symposium being held at Johnson Space Center. The last segment describes the National Air and Space Museum and NASA's cooperation with the Smithsonian Institution. \n",
      "\n",
      "The Solar Terrestrial Relations Observatory (STEREO) Education and Outreach (E/PO) Program (2008SSRv..136..627P) The STEREO mission’s Education and Outreach (E/PO) program began early enough its team benefited from many lessons learned as NASA’s E/PO profession matured. Originally made up of discrete programs, by launch the STEREO E/PO program had developed into a quality suite containing all the program elements now considered standard: education workshops, teacher/student guides, national and international collaboration, etc. The benefit of bringing so many unique programs together is the resulting diverse portfolio, with scientists, E/PO professionals, and their education partners all of whom can focus on excellent smaller programs. The drawback is a less cohesive program nearly impossible to evaluate in its entirety with the given funding. When individual components were evaluated, we found our programs mostly made positive impact. In this paper, we elaborate on the programs, hoping that others will effectively use or improve upon them. When possible, we indicate the programs’ effects on their target audiences. \n",
      "\n",
      "The SDO Social Media Planning Process: Walking the cat back into the bag (2012AGUFMPA31B1979W) As social media continues to grow as a way to communicate with the public about science missions, data and other STEM related topics, there has become a need for more organized and regimented Social Media programs and plans. In the Heliophysics science division at Goddard Space Flight Center we have been working on creating a template for social media programs which incorporates not just the goals for the program, as well as identifying an audience, but also deals with concerns about messaging, collaboration with other organizations, controversial topics, and evaluation. We hope that through creating a more unified approach we can develop a social media program that not only meets the needs of the audience but incorporates the needs of all of the different entities including the scientists, EPO Professionals and Office of Communications. \n",
      "\n",
      "From Deep under the Ocean to the Boundaries of our Solar System: Programs that Work (2011AGUFMED53C0821M) This presentation will highlight the benefits and experiences of teacher/researcher projects from the eyes of a participant and the community. Geoscience programs including Ocean Leadership's School of Rock, ARMADA Research Program from the Graduate School of Oceanography in Rhode Island, the NASA Endeavor Fellowship and Heliophysics Educator Ambassador program will be reviewed and resulting activities and programs will be shared. \n",
      "\n",
      "NASA's Heliophysics Educator Ambassador Program (2011AGUFMED34B..06N) NASA's Heliophysics Educator Ambassador (HEA) program focuses on in-depth learning experiences around Earth, Space, and Physical Science topics for educators teaching in middle school grades. Program coordinators include education and public outreach professionals from several NASA Science Mission Directorate (SMD) heliophysics spacecraft missions. The goal of the HEA program is to develop the capacity and provide the opportunity for educators to a) implement the Great Explorations in Math and Science (GEMS) Space Science Sequence for Grades 6-8 in their own classrooms, b) incorporate NASA SMD-funded spacecraft mission education resources into classroom activities, and c) train other teachers on the NASA heliophysics science and educational resources listed above at local and regional professional development conferences or meetings. We will discuss the goals, outcomes, and lessons learned through three years of program implementation, including benefits and challenges for program stakeholders, results of program evaluation, and plans for the future. \n",
      "\n",
      "Outreach and Education Program for IHY - A Global Approach (2006AGUSM.U34A..06R) The IHY Outreach and Education Program is one of the 4 main components of IHY (Science, Observatory Development, Outreach and History) and it is fundamental in achieving one of IHY's primary objectives which is to demonstrate the beauty, relevance and significance of Space and Earth Science to the world. The Outreach and Education Program for IHY has the following objectives: (1) inspire the next generation of Space and Earth scientists and explorers and (2) spread the knowledge of our solar system and the exciting process of scientific exploration to the public. It is dedicated to bringing heliophysics education to all the people of the world. Its organizational structure parallels that of the overall IHY structure, with education coordinators for each geographical region and national leaders for many nations. Because our team is globally based, and because the IHY program was developed in conjunction with the United Nations, the IHY outreach activities have the potential to expand on a global scale. The IHY Outreach and Education Program will focus on: (a) developing new and exciting outreach programs that provide unique opportunities for the global community; (b) increasing the visibility and accessibility of existing outreach programs; (c) developing partnerships between existing programs and activities to broaden their scope and impact; (d) determining the need for multi-lingual adaptations on educational resources and facilitating their translation. \n",
      "\n",
      "The Community-based Organizations Working Group of the Space Science Education Support Network (2004AAS...20513209L) The NASA Space Science Support Network Community-based Organizations Working Group (CBOWG) has been working for the past two years on issues surrounding afterschool programs and programs for youth (e.g., Girl Scouts, Boy Scouts, Boys and Girls Clubs, 4-H, summer camps, afterschool and weekend programs for various ages, programs with emphases on minority youth). In this session the co-leaders of the CBOWG will discuss the challenges of working with community-based organizations on a regional or national level. We will highlight some ties that we have forged with the National Institute for Out of School Time (NIOST) and the National Afterschool Association (NAA). We will also talk about efforts to coordinate how various entities within NASA cooperate with community-based organizations to serve the best interests of these groups. We will give a couple of examples of how NASA space science organizations have partnered with community-based organizations. The session will include some handouts of information and resources that the CBOWG has found useful in developing an understanding of this segment of informal education groups. We would like to thank NASA for providing resources to support the work of the CBOWG. \n",
      "\n",
      "Engaging Girls in STEM: A Discussion of Foundational and Current Research on What Works (2012ASPC..457...43S) This article summarizes a panel discussion with Jolene Jesse (Program Director, NSF Research on Gender in Science and Engineering program) and Laura Migus (Director of Equity &amp; Diversity at the Association of Science Technology Centers) on research related to gender in science, technology, engineering and math (STEM). Moderated by Ms. Karen Peterson from the NSF-funded National Girls Collaborative Project, Dr. Jesse and Ms. Migus discussed foundational and current research on pressing questions about the lack of gender diversity in STEM advanced education and careers, and on strategies the EPO community could employ in designing and implementing programs to encourage more girls and women to engage in STEM for the long term. \n",
      "\n"
     ]
    }
   ],
   "source": [
    "custom_text = \"We acknowledge funding support from the National Aeronautics and Space Administration (NASA) Mars Data Analysis Program (MDAP) Grant Number\"\n",
    "text, papers = textai(custom_text)\n",
    "print(text)\n",
    "\n",
    "for i in range(len(papers)):\n",
    "    print(f\"{papers[i][0]} ({papers[i][1]}) {papers[i][2]} \\n\")"
   ]
  },
  {
   "cell_type": "code",
   "execution_count": null,
   "id": "888d0da6",
   "metadata": {},
   "outputs": [],
   "source": [
    "def generate(input_text, radio):\n",
    "    text, papers = textai(input_text)\n",
    "    return '\\n'.join(text)\n",
    "\n",
    "demo = gr.Interface(\n",
    "    fn=generate,\n",
    "    inputs=[\n",
    "        gr.Textbox(lines=2, value=custom_text),\n",
    "        gr.Radio([\"1\",\"2\",\"3\"]),\n",
    "    ],\n",
    "    \n",
    "    outputs=\"text\",\n",
    "    live=True\n",
    ")\n",
    "demo.launch()"
   ]
  }
 ],
 "metadata": {
  "kernelspec": {
   "display_name": "Python 3 (ipykernel)",
   "language": "python",
   "name": "python3"
  },
  "language_info": {
   "codemirror_mode": {
    "name": "ipython",
    "version": 3
   },
   "file_extension": ".py",
   "mimetype": "text/x-python",
   "name": "python",
   "nbconvert_exporter": "python",
   "pygments_lexer": "ipython3",
   "version": "3.8.13"
  },
  "vscode": {
   "interpreter": {
    "hash": "7d9b9d271208cee9df7050a0da13cae4c64cfdd1a149730ff332effa7695e02f"
   }
  }
 },
 "nbformat": 4,
 "nbformat_minor": 5
}
