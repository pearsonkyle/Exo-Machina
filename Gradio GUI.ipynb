{
 "cells": [
  {
   "cell_type": "code",
   "execution_count": 1,
   "id": "1c316481",
   "metadata": {},
   "outputs": [],
   "source": [
    "import gradio as gr\n",
    "from transformers import pipeline\n",
    "import time\n",
    "\n",
    "exo = pipeline('text-generation',model='./models/checkpoint-90000', tokenizer='gpt2', config={'max_length':1000})\n",
    "machina = lambda text: exo(text)[0]['generated_text']"
   ]
  },
  {
   "cell_type": "code",
   "execution_count": 22,
   "id": "6788b243",
   "metadata": {},
   "outputs": [
    {
     "name": "stderr",
     "output_type": "stream",
     "text": [
      "/Users/kpearson/anaconda3/envs/unity_ml/lib/python3.8/site-packages/gradio/blocks.py:155: UserWarning: api_name predict already exists, using predict_1\n",
      "  warnings.warn(\n"
     ]
    },
    {
     "name": "stdout",
     "output_type": "stream",
     "text": [
      "Running on local URL:  http://127.0.0.1:7872\n",
      "\n",
      "To create a public link, set `share=True` in `launch()`.\n"
     ]
    },
    {
     "data": {
      "text/html": [
       "<div><iframe src=\"http://127.0.0.1:7872/\" width=\"900\" height=\"500\" allow=\"autoplay; camera; microphone; clipboard-read; clipboard-write;\" frameborder=\"0\" allowfullscreen></iframe></div>"
      ],
      "text/plain": [
       "<IPython.core.display.HTML object>"
      ]
     },
     "metadata": {},
     "output_type": "display_data"
    },
    {
     "data": {
      "text/plain": [
       "(<gradio.routes.App at 0x7fe1d10ed4c0>, 'http://127.0.0.1:7872/', None)"
      ]
     },
     "execution_count": 22,
     "metadata": {},
     "output_type": "execute_result"
    },
    {
     "name": "stderr",
     "output_type": "stream",
     "text": [
      "Traceback (most recent call last):\n",
      "  File \"/Users/kpearson/anaconda3/envs/unity_ml/lib/python3.8/site-packages/gradio/routes.py\", line 298, in run_predict\n",
      "    output = await app.blocks.process_api(\n",
      "  File \"/Users/kpearson/anaconda3/envs/unity_ml/lib/python3.8/site-packages/gradio/blocks.py\", line 790, in process_api\n",
      "    result = await self.call_function(fn_index, inputs, iterator)\n",
      "  File \"/Users/kpearson/anaconda3/envs/unity_ml/lib/python3.8/site-packages/gradio/blocks.py\", line 697, in call_function\n",
      "    prediction = await anyio.to_thread.run_sync(\n",
      "  File \"/Users/kpearson/anaconda3/envs/unity_ml/lib/python3.8/site-packages/anyio/to_thread.py\", line 31, in run_sync\n",
      "    return await get_asynclib().run_sync_in_worker_thread(\n",
      "  File \"/Users/kpearson/anaconda3/envs/unity_ml/lib/python3.8/site-packages/anyio/_backends/_asyncio.py\", line 937, in run_sync_in_worker_thread\n",
      "    return await future\n",
      "  File \"/Users/kpearson/anaconda3/envs/unity_ml/lib/python3.8/site-packages/anyio/_backends/_asyncio.py\", line 867, in run\n",
      "    result = context.run(func, *args)\n",
      "  File \"/var/folders/hz/8v6ffmb513b2z0db77fxkmx40000gp/T/ipykernel_10645/1420426909.py\", line 19, in generate\n",
      "    if prompt[-1] == '\\n':\n",
      "IndexError: string index out of range\n"
     ]
    },
    {
     "name": "stdout",
     "output_type": "stream",
     "text": [
      "\n",
      "\n",
      "\n",
      "\n",
      "\n",
      "\n",
      "\n",
      "\n",
      "\n",
      "\n"
     ]
    }
   ],
   "source": [
    "# TODO make a generator class to store previous outputs, settings, etc\n",
    "\n",
    "last_output = \"\"\n",
    "\n",
    "def clean_gen(prompt,N=3):\n",
    "    outputs = []\n",
    "    # extract last sentance of input\n",
    "    clean_prompt = prompt#.split('.')[-1] # TODO careful it may pick up on numbers\n",
    "    clean_prompt.replace('\\n','')\n",
    "    clean_prompt = clean_prompt.strip()\n",
    "\n",
    "    for i in range(N):\n",
    "        #print(clean_prompt)\n",
    "        outputs.append(machina(clean_prompt).replace(clean_prompt,f'{i+1})'))\n",
    "    return outputs\n",
    "\n",
    "def generate(prompt,radio):\n",
    "    global last_output\n",
    "    if prompt[-1] == '\\n':\n",
    "        outputs = clean_gen(prompt)\n",
    "        last_output = \"\\n\\n\".join(outputs)\n",
    "    if radio != None:\n",
    "        # TODO query prompt class\n",
    "        pass\n",
    "    print(radio)\n",
    "    return last_output\n",
    "    \n",
    "\n",
    "demo = gr.Interface(\n",
    "    fn=generate,\n",
    "    inputs=[\n",
    "        gr.Textbox(lines=2, value=\"Name Here...\"),\n",
    "        gr.Radio([\"1\",\"2\",\"3\"]),\n",
    "    ],\n",
    "    \n",
    "    outputs=\"text\",\n",
    "    live=True\n",
    ")\n",
    "demo.launch()"
   ]
  }
 ],
 "metadata": {
  "kernelspec": {
   "display_name": "Python 3.9.7 64-bit",
   "language": "python",
   "name": "python3"
  },
  "language_info": {
   "codemirror_mode": {
    "name": "ipython",
    "version": 3
   },
   "file_extension": ".py",
   "mimetype": "text/x-python",
   "name": "python",
   "nbconvert_exporter": "python",
   "pygments_lexer": "ipython3",
   "version": "3.9.7"
  },
  "vscode": {
   "interpreter": {
    "hash": "aee8b7b246df8f9039afb4144a1f6fd8d2ca17a180786b69acc140d282b71a49"
   }
  }
 },
 "nbformat": 4,
 "nbformat_minor": 5
}
