{
 "cells": [
  {
   "cell_type": "code",
   "execution_count": 20,
   "id": "1c316481",
   "metadata": {},
   "outputs": [],
   "source": [
    "import time\n",
    "import json\n",
    "import pickle\n",
    "import gradio as gr\n",
    "from annoy import AnnoyIndex\n",
    "from transformers import pipeline\n",
    "\n",
    "from database import Database, ADSEntry\n",
    "from text_to_vec import spacy_tokenizer\n",
    "\n",
    "# load database\n",
    "settings = json.load(open(\"settings.json\", 'r'))\n",
    "ADSDatabase = Database( settings=settings['database'], dtype=ADSEntry )\n",
    "\n",
    "# ranks words by importance/occurence\n",
    "vectorizer = pickle.load(open(\"vectorizer.pkl\", \"rb\"))\n",
    "\n",
    "# reduce dimensionality\n",
    "pca = pickle.load(open(\"pca.pkl\", \"rb\"))\n",
    "\n",
    "# lambda function to process input text\n",
    "process_input = lambda x: pca.transform(vectorizer.transform([spacy_tokenizer(x)]).toarray())[0]\n",
    "\n",
    "class TextAI:\n",
    "    def __init__(self, db, model_checkpoint='./models/checkpoint-90000', neighbor_file=f'test_514.ann'):\n",
    "        self.db = db\n",
    "        self.model = pipeline('text-generation',model=model_checkpoint, tokenizer='gpt2', config={'max_length':2000})\n",
    "        ndim = int(neighbor_file.split('_')[-1].split('.')[0])\n",
    "        self.neighbors = AnnoyIndex(ndim, 'angular')\n",
    "        self.neighbors.load(neighbor_file) # super fast, will just mmap the file\n",
    "\n",
    "    def __call__(self, x):\n",
    "        # generate text\n",
    "        text_suggestions = []\n",
    "        for i in range(4):\n",
    "            text_suggestions.append(self.model(x)[0]['generated_text'].replace(x,'').strip())\n",
    "        \n",
    "        #text = self.model(x, max_length=1000, do_sample=True, top_k=50, top_p=0.95, num_return_sequences=1)[0]['generated_text']\n",
    "        # get similar abstracts\n",
    "        nids = self.neighbors.get_nns_by_vector(process_input(x), 10, search_k=-1, include_distances=False)\n",
    "        entrys = self.db.query(self.db.dtype.id.in_(nids))\n",
    "        paper_recs = [[entry.title,entry.bibcode,entry.abstract] for entry in entrys]\n",
    "        return text_suggestions, paper_recs\n",
    "\n",
    "textai = TextAI(ADSDatabase)"
   ]
  },
  {
   "cell_type": "code",
   "execution_count": 23,
   "id": "628a2fbb",
   "metadata": {},
   "outputs": [
    {
     "name": "stdout",
     "output_type": "stream",
     "text": [
      "['extreme fluv', 'intense martian', 'large fluv', 'both outflow']\n",
      "Life in extreme environments (2001Natur.409.1092R) Each recent report of liquid water existing elsewhere in the Solar System has reverberated through the international press and excited the imagination of humankind. Why? Because in the past few decades we have come to realize that where there is liquid water on Earth, virtually no matter what the physical conditions, there is life. What we previously thought of as insurmountable physical and chemical barriers to life, we now see as yet another niche harbouring 'extremophiles'. This realization, coupled with new data on the survival of microbes in the space environment and modelling of the potential for transfer of life between celestial bodies, suggests that life could be more common than previously thought. Here we examine critically what it means to be an extremophile, and the implications of this for evolution, biotechnology and especially the search for life in the Universe. \n",
      "\n",
      "Uninhabited habitats on Mars (2012Icar..217..184C) Investigations of Mars as a potential location for life often make the assumption that where there are habitats, they will contain organisms. However, the observation of the ubiquitous distribution of life in habitable environments on the Earth does not imply the presence of life in martian habitats. Although uninhabited habitats are extremely rare on the Earth, a lack of a productive photosynthetic biosphere on Mars to generate organic carbon and oxygen, thus providing a rapidly available redox couple for energy acquisition by life and/or a lack of connectivity between habitats potentially increases the scope and abundance of uninhabited habitats for much of the geological history of the planet. Uninhabited habitats could have existed on Mars from the Noachian to the present-day in impact hydrothermal systems, megaflood systems, lacustrine environments, transient melted permafrost, gullies and local regions of volcanic activity; and there may be evidence for them in martian meteorites. Uninhabited habitats would provide control habitats to investigate the role of biology in planetary-scale geochemical processes on the Earth and they would provide new constraints on the habitability of Mars. Future robotic craft and samples returned from Mars will be able to directly show if uninhabited habitats exist or existed on Mars. \n",
      "\n",
      "Beyond water on Mars (2009NatGe...2..231G) Mars exploration has been guided by the search for water. The more complex quest by Mars Science Laboratory for habitable environments should illuminate the Martian environmental history, and possibly deliver insights into extraterrestrial life. \n",
      "\n",
      "An ESA study for the search for life on Mars (2000P&SS...48..181W) Similarities in the early histories of Mars and Earth suggest the possibility that life may have arisen on Mars as it did on Earth. If this were the case, early deterioration of the environment on Mars (loss of surface water, decrease in temperature) may have inhibited further evolution of life. Thus, life on Mars would probably be similar to the simplest form of life on Earth, the prokaryotes. We present a hypothetical strategy to search for life on Mars consisting of (i) identifying a suitable landing site with good exobiological potential, and (ii) searching for morphological and biogeochemical signatures of extinct and extant life on the surface, in the regolith subsurface, and within rocks. The platform to be used in this theoretical exercise is an integrated, multi-user instrument package, distributed between a lander and rover, which will observe and analyse surface and subsurface samples to obtain the following information: environmental data concerning the surface geology and mineralogy, UV radiation and oxidation processes; <P />macroscopic to microscopic morphological evidence of life; <P />biogeochemistry indicative of the presence of extinct or extant life; <P />niches for extant life. <P />Lastly, the rationale for human exploration of Mars will be addressed. \n",
      "\n",
      "The Astrobiology of Mars: Methane and Other Candidate Biomarker Gases, and Related Interdisciplinary Studies on Earth and Mars (2010LPICo1538.5590M) On Mars, the search for life has been a principal goal for centuries, and it remains so today. We present the results of Strategic Initiative 6, developed at the NAI Workshop in Tempe AZ. \n",
      "\n",
      "Exobiology in the Solar System &amp; the search for life on Mars. (1999esss.book.....W) Report from the ESA Exobiology Team Study 1997 - 1998: chemical evolution in the Solar System, limits of life under extreme conditions, morphological and biochemical signatures of extraterrestrial life (utility of terrestrial analogues), potential non-Martian sites for extraterrestrial life, science and experiment strategy, recommendations; the planet Mars, Martian meteorites, exobiology and the Mars surface environment, search for chemical indicators of life, inspection of subsurface aliquots and surface rocks. \n",
      "\n",
      "Strategies for the Astrobiological Exploration of Mars (2000came.work..110F) The search for evidence of past and present life and/or prebiotic chemistry has been identified as the primary focus of the current Mars Surveyor (MS) Program. In this context, recent exploration strategies have emphasized the need to explore three basic geological environments: A) sites of ancient surface water, B) sites of ancient subsurface water and C) sites of present subsurface water. In previous implementation strategies it has been generally assumed that if subsurface water exists on Mars today it will be located at a depth of several km. Access will require deep drilling that is beyond the capabilities of current robotic platforms. Logically, the exploration for deposits of ancient hydrological systems may be much easier and has, therefore, given priority. However, recent discoveries from the Mars Global Surveyor (MGS) mission have demonstrated that we still have a lot to learn about past and present Martian environments and the potential for life. Advances in our understanding of Martian surface topography, geomorphology and composition, as well as in our knowledge of life in extreme environments on Earth, indicate the value of considering a broadly-based, flexible strategy that will balance elements of both Exopaleontology (the search for a fossil record) and Exobiology (the search for extant life). Because exploration strategies for past and present life are fundamentally different, it is appropriate to consider each separately before seeking to define a program architecture that will effectively combine both aspects during future robotic exploration. \n",
      "\n",
      "Samples for Investigations on Past and/or Current Biological Activity on Mars (2000came.work..211M) Multi-disciplinary groups of biologists emerged in France as a result of two workshops (June 1999 and January 2000) devoted to Mars sample return. The search based on the assumption that key ingredients for life (liquid water and a source of energy) are evidenced on ancient Mars, they are currently developing strategies to detect possible extinct and/or extant life on Mars. We can be sure that biosignatures of life, if there are, will be rare and to confirm this potentially controversial discovery the most sensible idea to address numerous questions is to bring safely to Earth laboratories selected samples from the surface and subsurface of Mars. It may be essential in order to claim extraordinary scientific conclusions to permit to do new and complete investigations. Most of them will be conducted under quarantine. \n",
      "\n",
      "Drilling in ancient permafrost on Mars for evidence of a second genesis of life (2005P&SS...53.1302S) If life ever existed on Mars, a key question is the genetic relationship of that life to life on Earth. To determine if Martian life represents a separate, second genesis of life requires the analysis of organisms, not fossils. Ancient permafrost on Mars represents one potential source of intact, albeit probably dead by radiation, Martian organisms. Strong crustal magnetism in the ancient heavily cratered southern highlands between 60 and 80°S and at about 180°W indicates what may be the oldest, best preserved ice-rich permafrost on Mars. Drilling to depths of 1000 m would reach samples unaffected by possible warming due to cyclic changes in Mars' obliquity. When drilling into the permafrost to retrieve ancient intact Martian organisms, it is necessary to take special precautions to avoid the possibility of contamination. Earth permafrost provides an analog for Martian permafrost and convenient sites for instrument development and field testing. \n",
      "\n",
      "Mars Extant Life: What's Next? Conference Report (2020AsBio..20..785C) On November 5-8, 2019, the \"Mars Extant Life: What's Next?\" conference was convened in Carlsbad, New Mexico. The conference gathered a community of actively publishing experts in disciplines related to habitability and astrobiology. Primary conclusions are as follows: A significant subset of conference attendees concluded that there is a realistic possibility that Mars hosts indigenous microbial life. A powerful theme that permeated the conference is that the key to the search for martian extant life lies in identifying and exploring refugia (\"oases\"), where conditions are either permanently or episodically significantly more hospitable than average. Based on our existing knowledge of Mars, conference participants highlighted four potential martian refugium (not listed in priority order): Caves, Deep Subsurface, Ices, and Salts. The conference group did not attempt to reach a consensus prioritization of these candidate environments, but instead felt that a defensible prioritization would require a future competitive process. Within the context of these candidate environments, we identified a variety of geological search strategies that could narrow the search space. Additionally, we summarized a number of measurement techniques that could be used to detect evidence of extant life (if present). Again, it was not within the scope of the conference to prioritize these measurement techniques—that is best left for the competitive process. We specifically note that the number and sensitivity of detection methods that could be implemented if samples were returned to Earth greatly exceed the methodologies that could be used at Mars. Finally, important lessons to guide extant life search processes can be derived both from experiments carried out in terrestrial laboratories and analog field sites and from theoretical modeling. \n",
      "\n"
     ]
    }
   ],
   "source": [
    "custom_text = \"One of the key drivers of the Mars Exploration Program is the search for evidence of past or present life. In this context, the most relevant martian environments to search for extant life are those associated with liquid water, and locations that experience\"\n",
    "\n",
    "text, papers = textai(custom_text)\n",
    "print(text)\n",
    "\n",
    "for i in range(len(papers)):\n",
    "    print(f\"{papers[i][0]} ({papers[i][1]}) {papers[i][2]} \\n\")"
   ]
  },
  {
   "cell_type": "code",
   "execution_count": null,
   "id": "888d0da6",
   "metadata": {},
   "outputs": [],
   "source": [
    "\n",
    "def generate(input_text, radio):\n",
    "    text, papers = textai(input_text)\n",
    "    return '\\n'.join(text)\n",
    "\n",
    "demo = gr.Interface(\n",
    "    fn=generate,\n",
    "    inputs=[\n",
    "        gr.Textbox(lines=2, value=custom_text),\n",
    "        gr.Radio([\"1\",\"2\",\"3\"]),\n",
    "    ],\n",
    "    \n",
    "    outputs=\"text\",\n",
    "    live=True\n",
    ")\n",
    "demo.launch()"
   ]
  }
 ],
 "metadata": {
  "kernelspec": {
   "display_name": "Python 3.8.13 ('exomachina')",
   "language": "python",
   "name": "python3"
  },
  "language_info": {
   "codemirror_mode": {
    "name": "ipython",
    "version": 3
   },
   "file_extension": ".py",
   "mimetype": "text/x-python",
   "name": "python",
   "nbconvert_exporter": "python",
   "pygments_lexer": "ipython3",
   "version": "3.8.13"
  },
  "vscode": {
   "interpreter": {
    "hash": "7d9b9d271208cee9df7050a0da13cae4c64cfdd1a149730ff332effa7695e02f"
   }
  }
 },
 "nbformat": 4,
 "nbformat_minor": 5
}
